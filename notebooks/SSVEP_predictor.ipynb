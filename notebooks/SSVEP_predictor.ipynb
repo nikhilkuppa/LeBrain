{
  "nbformat": 4,
  "nbformat_minor": 0,
  "metadata": {
    "colab": {
      "provenance": []
    },
    "kernelspec": {
      "name": "python3",
      "display_name": "Python 3"
    },
    "language_info": {
      "name": "python"
    }
  },
  "cells": [
    {
      "cell_type": "markdown",
      "source": [
        "# This notebook contains the SSVEP analysis through the EEG data collected- so that the participant can destroy bots by focusing on the bot with a particular frequency.  "
      ],
      "metadata": {
        "id": "VvIR6p4pIRYh"
      }
    },
    {
      "cell_type": "code",
      "execution_count": 1,
      "metadata": {
        "colab": {
          "base_uri": "https://localhost:8080/"
        },
        "id": "RWvdgHLfDvjh",
        "outputId": "94c17c67-fcf6-4f37-9951-0a3e5db44ba2"
      },
      "outputs": [
        {
          "output_type": "stream",
          "name": "stdout",
          "text": [
            "Mounted at /content/drive\n"
          ]
        }
      ],
      "source": [
        "from google.colab import drive\n",
        "drive.mount('/content/drive')\n"
      ]
    },
    {
      "cell_type": "code",
      "source": [
        "import pandas as pd\n",
        "freq8 = pd.read_csv('drive/My Drive/LeBrain - Neureality 2024/ssvep/sunday data/latest/ssvep_8hz.csv')\n",
        "freq15 = pd.read_csv('drive/My Drive/LeBrain - Neureality 2024/ssvep/sunday data/latest/ssvep_15hz.csv')\n",
        "freq25 = pd.read_csv('drive/My Drive/LeBrain - Neureality 2024/ssvep/sunday data/latest/ssvep_25hz.csv')\n",
        "freq35 = pd.read_csv('drive/My Drive/LeBrain - Neureality 2024/ssvep/sunday data/latest/ssvep_35hz.csv')\n"
      ],
      "metadata": {
        "id": "em2o6zPFICKs"
      },
      "execution_count": 2,
      "outputs": []
    },
    {
      "cell_type": "code",
      "source": [
        "freq8 = freq8.iloc[1200:, 4:8]\n",
        "freq15 = freq15.iloc[1200:, 4:8]\n",
        "freq25 = freq25.iloc[1200:, 4:8]\n",
        "freq35 = freq35.iloc[1200:, 4:8]\n",
        "\n",
        "# freq8.columns = ['0', '1', '2','3','4','5','6','7']\n",
        "# freq15.columns = ['0', '1', '2','3','4','5','6','7']\n",
        "# freq25.columns = ['0', '1', '2','3','4','5','6','7']\n",
        "# freq35.columns = ['0', '1', '2','3','4','5','6','7']\n",
        "\n",
        "freq8.columns = ['4','5','6','7']\n",
        "freq15.columns = ['4','5','6','7']\n",
        "freq25.columns = ['4','5','6','7']\n",
        "freq35.columns = ['4','5','6','7']"
      ],
      "metadata": {
        "id": "EKTfOAsnbLZX"
      },
      "execution_count": 3,
      "outputs": []
    },
    {
      "cell_type": "code",
      "source": [
        "# import numpy as np\n",
        "# grouped_freq8 = freq8.apply(lambda row: np.array(row), axis=1).to_frame(name='combined')\n",
        "# grouped_freq15 = freq15.apply(lambda row: np.array(row), axis=1).to_frame(name='combined')\n",
        "# grouped_freq25 = freq25.apply(lambda row: np.array(row), axis=1).to_frame(name='combined')\n",
        "# grouped_freq35 = freq35.apply(lambda row: np.array(row), axis=1).to_frame(name='combined')\n"
      ],
      "metadata": {
        "id": "c_iCpiHNb4WS"
      },
      "execution_count": 4,
      "outputs": []
    },
    {
      "cell_type": "code",
      "source": [
        "# def combine_rows(group):\n",
        "#     return np.array(group.values.flatten())\n",
        "\n",
        "# # Combine every 2500 rows\n",
        "# grouped_freq8 = freq8.groupby(np.arange(len(freq8)) // 1250).apply(combine_rows).to_frame(name='combined')\n",
        "# grouped_freq15 = freq15.groupby(np.arange(len(freq15)) // 1250).apply(combine_rows).to_frame(name='combined')\n",
        "# grouped_freq25 = freq25.groupby(np.arange(len(freq25)) // 1250).apply(combine_rows).to_frame(name='combined')\n",
        "# grouped_freq35 = freq35.groupby(np.arange(len(freq35)) // 1250).apply(combine_rows).to_frame(name='combined')"
      ],
      "metadata": {
        "id": "dOAxRKIIb4US"
      },
      "execution_count": 5,
      "outputs": []
    },
    {
      "cell_type": "code",
      "source": [
        "len(freq8)"
      ],
      "metadata": {
        "colab": {
          "base_uri": "https://localhost:8080/"
        },
        "id": "QWV16QSXdbCh",
        "outputId": "8657580a-587a-4831-dd92-c6428a495ea7"
      },
      "execution_count": 6,
      "outputs": [
        {
          "output_type": "execute_result",
          "data": {
            "text/plain": [
              "18298"
            ]
          },
          "metadata": {},
          "execution_count": 6
        }
      ]
    },
    {
      "cell_type": "code",
      "source": [
        "grouped_freq8=freq8\n",
        "grouped_freq15=freq15\n",
        "grouped_freq25=freq25\n",
        "grouped_freq35=freq35"
      ],
      "metadata": {
        "id": "rEd90iq_glFt"
      },
      "execution_count": 7,
      "outputs": []
    },
    {
      "cell_type": "code",
      "source": [
        "grouped_freq8['label'] = 1\n",
        "grouped_freq15['label'] = 2\n",
        "grouped_freq25['label'] = 3\n",
        "grouped_freq35['label'] = 4\n",
        "\n",
        "# grouped_left=grouped_left[:29]\n",
        "# grouped_right=grouped_right[:30]\n",
        "grouped_freq8=grouped_freq8[:18125]\n",
        "grouped_freq15=grouped_freq15[:21250]\n",
        "grouped_freq25=grouped_freq25[:21250]\n",
        "grouped_freq35=grouped_freq35[:21250]"
      ],
      "metadata": {
        "id": "K1Xq9NvqdIWY"
      },
      "execution_count": 8,
      "outputs": []
    },
    {
      "cell_type": "code",
      "source": [
        "stacked_df = pd.concat([grouped_freq8, grouped_freq15,grouped_freq25,grouped_freq35], axis=0, ignore_index=True)"
      ],
      "metadata": {
        "id": "XKzPB3CIdIUN"
      },
      "execution_count": 9,
      "outputs": []
    },
    {
      "cell_type": "code",
      "source": [
        "stacked_df"
      ],
      "metadata": {
        "colab": {
          "base_uri": "https://localhost:8080/",
          "height": 424
        },
        "id": "LSR0NJ8Afxwz",
        "outputId": "e8c6641b-e6f3-4693-82c1-f74cef63f195"
      },
      "execution_count": 10,
      "outputs": [
        {
          "output_type": "execute_result",
          "data": {
            "text/plain": [
              "            4       5       6       7  label\n",
              "0     -12.476 -11.099 -10.981 -11.904      1\n",
              "1     -11.458 -11.297 -10.054 -11.148      1\n",
              "2      -7.537  -8.892  -5.506  -7.811      1\n",
              "3      -3.297  -3.568  -0.499  -4.404      1\n",
              "4      -2.526  -0.596   0.392  -3.567      1\n",
              "...       ...     ...     ...     ...    ...\n",
              "81870  32.981  28.284  22.970  26.641      4\n",
              "81871  28.825  24.708  18.551  23.104      4\n",
              "81872  23.999  19.888  14.536  19.680      4\n",
              "81873  21.670  16.476  11.905  18.536      4\n",
              "81874  22.480  15.796  11.233  19.282      4\n",
              "\n",
              "[81875 rows x 5 columns]"
            ],
            "text/html": [
              "\n",
              "  <div id=\"df-a64ac046-8e19-4d9b-8adc-293e7fc39d2f\" class=\"colab-df-container\">\n",
              "    <div>\n",
              "<style scoped>\n",
              "    .dataframe tbody tr th:only-of-type {\n",
              "        vertical-align: middle;\n",
              "    }\n",
              "\n",
              "    .dataframe tbody tr th {\n",
              "        vertical-align: top;\n",
              "    }\n",
              "\n",
              "    .dataframe thead th {\n",
              "        text-align: right;\n",
              "    }\n",
              "</style>\n",
              "<table border=\"1\" class=\"dataframe\">\n",
              "  <thead>\n",
              "    <tr style=\"text-align: right;\">\n",
              "      <th></th>\n",
              "      <th>4</th>\n",
              "      <th>5</th>\n",
              "      <th>6</th>\n",
              "      <th>7</th>\n",
              "      <th>label</th>\n",
              "    </tr>\n",
              "  </thead>\n",
              "  <tbody>\n",
              "    <tr>\n",
              "      <th>0</th>\n",
              "      <td>-12.476</td>\n",
              "      <td>-11.099</td>\n",
              "      <td>-10.981</td>\n",
              "      <td>-11.904</td>\n",
              "      <td>1</td>\n",
              "    </tr>\n",
              "    <tr>\n",
              "      <th>1</th>\n",
              "      <td>-11.458</td>\n",
              "      <td>-11.297</td>\n",
              "      <td>-10.054</td>\n",
              "      <td>-11.148</td>\n",
              "      <td>1</td>\n",
              "    </tr>\n",
              "    <tr>\n",
              "      <th>2</th>\n",
              "      <td>-7.537</td>\n",
              "      <td>-8.892</td>\n",
              "      <td>-5.506</td>\n",
              "      <td>-7.811</td>\n",
              "      <td>1</td>\n",
              "    </tr>\n",
              "    <tr>\n",
              "      <th>3</th>\n",
              "      <td>-3.297</td>\n",
              "      <td>-3.568</td>\n",
              "      <td>-0.499</td>\n",
              "      <td>-4.404</td>\n",
              "      <td>1</td>\n",
              "    </tr>\n",
              "    <tr>\n",
              "      <th>4</th>\n",
              "      <td>-2.526</td>\n",
              "      <td>-0.596</td>\n",
              "      <td>0.392</td>\n",
              "      <td>-3.567</td>\n",
              "      <td>1</td>\n",
              "    </tr>\n",
              "    <tr>\n",
              "      <th>...</th>\n",
              "      <td>...</td>\n",
              "      <td>...</td>\n",
              "      <td>...</td>\n",
              "      <td>...</td>\n",
              "      <td>...</td>\n",
              "    </tr>\n",
              "    <tr>\n",
              "      <th>81870</th>\n",
              "      <td>32.981</td>\n",
              "      <td>28.284</td>\n",
              "      <td>22.970</td>\n",
              "      <td>26.641</td>\n",
              "      <td>4</td>\n",
              "    </tr>\n",
              "    <tr>\n",
              "      <th>81871</th>\n",
              "      <td>28.825</td>\n",
              "      <td>24.708</td>\n",
              "      <td>18.551</td>\n",
              "      <td>23.104</td>\n",
              "      <td>4</td>\n",
              "    </tr>\n",
              "    <tr>\n",
              "      <th>81872</th>\n",
              "      <td>23.999</td>\n",
              "      <td>19.888</td>\n",
              "      <td>14.536</td>\n",
              "      <td>19.680</td>\n",
              "      <td>4</td>\n",
              "    </tr>\n",
              "    <tr>\n",
              "      <th>81873</th>\n",
              "      <td>21.670</td>\n",
              "      <td>16.476</td>\n",
              "      <td>11.905</td>\n",
              "      <td>18.536</td>\n",
              "      <td>4</td>\n",
              "    </tr>\n",
              "    <tr>\n",
              "      <th>81874</th>\n",
              "      <td>22.480</td>\n",
              "      <td>15.796</td>\n",
              "      <td>11.233</td>\n",
              "      <td>19.282</td>\n",
              "      <td>4</td>\n",
              "    </tr>\n",
              "  </tbody>\n",
              "</table>\n",
              "<p>81875 rows × 5 columns</p>\n",
              "</div>\n",
              "    <div class=\"colab-df-buttons\">\n",
              "\n",
              "  <div class=\"colab-df-container\">\n",
              "    <button class=\"colab-df-convert\" onclick=\"convertToInteractive('df-a64ac046-8e19-4d9b-8adc-293e7fc39d2f')\"\n",
              "            title=\"Convert this dataframe to an interactive table.\"\n",
              "            style=\"display:none;\">\n",
              "\n",
              "  <svg xmlns=\"http://www.w3.org/2000/svg\" height=\"24px\" viewBox=\"0 -960 960 960\">\n",
              "    <path d=\"M120-120v-720h720v720H120Zm60-500h600v-160H180v160Zm220 220h160v-160H400v160Zm0 220h160v-160H400v160ZM180-400h160v-160H180v160Zm440 0h160v-160H620v160ZM180-180h160v-160H180v160Zm440 0h160v-160H620v160Z\"/>\n",
              "  </svg>\n",
              "    </button>\n",
              "\n",
              "  <style>\n",
              "    .colab-df-container {\n",
              "      display:flex;\n",
              "      gap: 12px;\n",
              "    }\n",
              "\n",
              "    .colab-df-convert {\n",
              "      background-color: #E8F0FE;\n",
              "      border: none;\n",
              "      border-radius: 50%;\n",
              "      cursor: pointer;\n",
              "      display: none;\n",
              "      fill: #1967D2;\n",
              "      height: 32px;\n",
              "      padding: 0 0 0 0;\n",
              "      width: 32px;\n",
              "    }\n",
              "\n",
              "    .colab-df-convert:hover {\n",
              "      background-color: #E2EBFA;\n",
              "      box-shadow: 0px 1px 2px rgba(60, 64, 67, 0.3), 0px 1px 3px 1px rgba(60, 64, 67, 0.15);\n",
              "      fill: #174EA6;\n",
              "    }\n",
              "\n",
              "    .colab-df-buttons div {\n",
              "      margin-bottom: 4px;\n",
              "    }\n",
              "\n",
              "    [theme=dark] .colab-df-convert {\n",
              "      background-color: #3B4455;\n",
              "      fill: #D2E3FC;\n",
              "    }\n",
              "\n",
              "    [theme=dark] .colab-df-convert:hover {\n",
              "      background-color: #434B5C;\n",
              "      box-shadow: 0px 1px 3px 1px rgba(0, 0, 0, 0.15);\n",
              "      filter: drop-shadow(0px 1px 2px rgba(0, 0, 0, 0.3));\n",
              "      fill: #FFFFFF;\n",
              "    }\n",
              "  </style>\n",
              "\n",
              "    <script>\n",
              "      const buttonEl =\n",
              "        document.querySelector('#df-a64ac046-8e19-4d9b-8adc-293e7fc39d2f button.colab-df-convert');\n",
              "      buttonEl.style.display =\n",
              "        google.colab.kernel.accessAllowed ? 'block' : 'none';\n",
              "\n",
              "      async function convertToInteractive(key) {\n",
              "        const element = document.querySelector('#df-a64ac046-8e19-4d9b-8adc-293e7fc39d2f');\n",
              "        const dataTable =\n",
              "          await google.colab.kernel.invokeFunction('convertToInteractive',\n",
              "                                                    [key], {});\n",
              "        if (!dataTable) return;\n",
              "\n",
              "        const docLinkHtml = 'Like what you see? Visit the ' +\n",
              "          '<a target=\"_blank\" href=https://colab.research.google.com/notebooks/data_table.ipynb>data table notebook</a>'\n",
              "          + ' to learn more about interactive tables.';\n",
              "        element.innerHTML = '';\n",
              "        dataTable['output_type'] = 'display_data';\n",
              "        await google.colab.output.renderOutput(dataTable, element);\n",
              "        const docLink = document.createElement('div');\n",
              "        docLink.innerHTML = docLinkHtml;\n",
              "        element.appendChild(docLink);\n",
              "      }\n",
              "    </script>\n",
              "  </div>\n",
              "\n",
              "\n",
              "<div id=\"df-19a84f44-b72e-4af0-bd61-2483cc8ac763\">\n",
              "  <button class=\"colab-df-quickchart\" onclick=\"quickchart('df-19a84f44-b72e-4af0-bd61-2483cc8ac763')\"\n",
              "            title=\"Suggest charts\"\n",
              "            style=\"display:none;\">\n",
              "\n",
              "<svg xmlns=\"http://www.w3.org/2000/svg\" height=\"24px\"viewBox=\"0 0 24 24\"\n",
              "     width=\"24px\">\n",
              "    <g>\n",
              "        <path d=\"M19 3H5c-1.1 0-2 .9-2 2v14c0 1.1.9 2 2 2h14c1.1 0 2-.9 2-2V5c0-1.1-.9-2-2-2zM9 17H7v-7h2v7zm4 0h-2V7h2v10zm4 0h-2v-4h2v4z\"/>\n",
              "    </g>\n",
              "</svg>\n",
              "  </button>\n",
              "\n",
              "<style>\n",
              "  .colab-df-quickchart {\n",
              "      --bg-color: #E8F0FE;\n",
              "      --fill-color: #1967D2;\n",
              "      --hover-bg-color: #E2EBFA;\n",
              "      --hover-fill-color: #174EA6;\n",
              "      --disabled-fill-color: #AAA;\n",
              "      --disabled-bg-color: #DDD;\n",
              "  }\n",
              "\n",
              "  [theme=dark] .colab-df-quickchart {\n",
              "      --bg-color: #3B4455;\n",
              "      --fill-color: #D2E3FC;\n",
              "      --hover-bg-color: #434B5C;\n",
              "      --hover-fill-color: #FFFFFF;\n",
              "      --disabled-bg-color: #3B4455;\n",
              "      --disabled-fill-color: #666;\n",
              "  }\n",
              "\n",
              "  .colab-df-quickchart {\n",
              "    background-color: var(--bg-color);\n",
              "    border: none;\n",
              "    border-radius: 50%;\n",
              "    cursor: pointer;\n",
              "    display: none;\n",
              "    fill: var(--fill-color);\n",
              "    height: 32px;\n",
              "    padding: 0;\n",
              "    width: 32px;\n",
              "  }\n",
              "\n",
              "  .colab-df-quickchart:hover {\n",
              "    background-color: var(--hover-bg-color);\n",
              "    box-shadow: 0 1px 2px rgba(60, 64, 67, 0.3), 0 1px 3px 1px rgba(60, 64, 67, 0.15);\n",
              "    fill: var(--button-hover-fill-color);\n",
              "  }\n",
              "\n",
              "  .colab-df-quickchart-complete:disabled,\n",
              "  .colab-df-quickchart-complete:disabled:hover {\n",
              "    background-color: var(--disabled-bg-color);\n",
              "    fill: var(--disabled-fill-color);\n",
              "    box-shadow: none;\n",
              "  }\n",
              "\n",
              "  .colab-df-spinner {\n",
              "    border: 2px solid var(--fill-color);\n",
              "    border-color: transparent;\n",
              "    border-bottom-color: var(--fill-color);\n",
              "    animation:\n",
              "      spin 1s steps(1) infinite;\n",
              "  }\n",
              "\n",
              "  @keyframes spin {\n",
              "    0% {\n",
              "      border-color: transparent;\n",
              "      border-bottom-color: var(--fill-color);\n",
              "      border-left-color: var(--fill-color);\n",
              "    }\n",
              "    20% {\n",
              "      border-color: transparent;\n",
              "      border-left-color: var(--fill-color);\n",
              "      border-top-color: var(--fill-color);\n",
              "    }\n",
              "    30% {\n",
              "      border-color: transparent;\n",
              "      border-left-color: var(--fill-color);\n",
              "      border-top-color: var(--fill-color);\n",
              "      border-right-color: var(--fill-color);\n",
              "    }\n",
              "    40% {\n",
              "      border-color: transparent;\n",
              "      border-right-color: var(--fill-color);\n",
              "      border-top-color: var(--fill-color);\n",
              "    }\n",
              "    60% {\n",
              "      border-color: transparent;\n",
              "      border-right-color: var(--fill-color);\n",
              "    }\n",
              "    80% {\n",
              "      border-color: transparent;\n",
              "      border-right-color: var(--fill-color);\n",
              "      border-bottom-color: var(--fill-color);\n",
              "    }\n",
              "    90% {\n",
              "      border-color: transparent;\n",
              "      border-bottom-color: var(--fill-color);\n",
              "    }\n",
              "  }\n",
              "</style>\n",
              "\n",
              "  <script>\n",
              "    async function quickchart(key) {\n",
              "      const quickchartButtonEl =\n",
              "        document.querySelector('#' + key + ' button');\n",
              "      quickchartButtonEl.disabled = true;  // To prevent multiple clicks.\n",
              "      quickchartButtonEl.classList.add('colab-df-spinner');\n",
              "      try {\n",
              "        const charts = await google.colab.kernel.invokeFunction(\n",
              "            'suggestCharts', [key], {});\n",
              "      } catch (error) {\n",
              "        console.error('Error during call to suggestCharts:', error);\n",
              "      }\n",
              "      quickchartButtonEl.classList.remove('colab-df-spinner');\n",
              "      quickchartButtonEl.classList.add('colab-df-quickchart-complete');\n",
              "    }\n",
              "    (() => {\n",
              "      let quickchartButtonEl =\n",
              "        document.querySelector('#df-19a84f44-b72e-4af0-bd61-2483cc8ac763 button');\n",
              "      quickchartButtonEl.style.display =\n",
              "        google.colab.kernel.accessAllowed ? 'block' : 'none';\n",
              "    })();\n",
              "  </script>\n",
              "</div>\n",
              "    </div>\n",
              "  </div>\n"
            ],
            "application/vnd.google.colaboratory.intrinsic+json": {
              "type": "dataframe",
              "variable_name": "stacked_df",
              "summary": "{\n  \"name\": \"stacked_df\",\n  \"rows\": 81875,\n  \"fields\": [\n    {\n      \"column\": \"4\",\n      \"properties\": {\n        \"dtype\": \"number\",\n        \"std\": 5.867718028495603,\n        \"min\": -171.455,\n        \"max\": 56.663,\n        \"num_unique_values\": 23674,\n        \"samples\": [\n          -2.968,\n          -21.367,\n          5.125\n        ],\n        \"semantic_type\": \"\",\n        \"description\": \"\"\n      }\n    },\n    {\n      \"column\": \"5\",\n      \"properties\": {\n        \"dtype\": \"number\",\n        \"std\": 5.754503250018481,\n        \"min\": -123.84,\n        \"max\": 57.636,\n        \"num_unique_values\": 23503,\n        \"samples\": [\n          -0.896,\n          8.566,\n          3.541\n        ],\n        \"semantic_type\": \"\",\n        \"description\": \"\"\n      }\n    },\n    {\n      \"column\": \"6\",\n      \"properties\": {\n        \"dtype\": \"number\",\n        \"std\": 5.498307901848161,\n        \"min\": -104.925,\n        \"max\": 61.314,\n        \"num_unique_values\": 22857,\n        \"samples\": [\n          3.472,\n          -10.988,\n          4.34\n        ],\n        \"semantic_type\": \"\",\n        \"description\": \"\"\n      }\n    },\n    {\n      \"column\": \"7\",\n      \"properties\": {\n        \"dtype\": \"number\",\n        \"std\": 5.03934995922832,\n        \"min\": -120.026,\n        \"max\": 53.329,\n        \"num_unique_values\": 21236,\n        \"samples\": [\n          -2.123,\n          -6.864,\n          2.343\n        ],\n        \"semantic_type\": \"\",\n        \"description\": \"\"\n      }\n    },\n    {\n      \"column\": \"label\",\n      \"properties\": {\n        \"dtype\": \"number\",\n        \"std\": 1,\n        \"min\": 1,\n        \"max\": 4,\n        \"num_unique_values\": 4,\n        \"samples\": [\n          2,\n          4,\n          1\n        ],\n        \"semantic_type\": \"\",\n        \"description\": \"\"\n      }\n    }\n  ]\n}"
            }
          },
          "metadata": {},
          "execution_count": 10
        }
      ]
    },
    {
      "cell_type": "code",
      "source": [
        "stacked_df['label'].value_counts()"
      ],
      "metadata": {
        "colab": {
          "base_uri": "https://localhost:8080/"
        },
        "id": "d4SQxK8Xv7U1",
        "outputId": "cf79226d-6dc7-4e92-c12e-97360ddce9b7"
      },
      "execution_count": 11,
      "outputs": [
        {
          "output_type": "execute_result",
          "data": {
            "text/plain": [
              "2    21250\n",
              "3    21250\n",
              "4    21250\n",
              "1    18125\n",
              "Name: label, dtype: int64"
            ]
          },
          "metadata": {},
          "execution_count": 11
        }
      ]
    },
    {
      "cell_type": "code",
      "source": [
        "import numpy as np\n",
        "import pandas as pd\n",
        "from sklearn.model_selection import train_test_split\n",
        "from tensorflow.keras.models import Sequential\n",
        "from tensorflow.keras.layers import LSTM, Dense\n",
        "from tensorflow.keras.layers import Dropout\n",
        "import tensorflow as tf\n",
        "\n",
        "# Sample DataFrame with 8 attributes and a label column\n",
        "# Replace 'df' with your DataFrame\n",
        "# df = ...\n",
        "\n",
        "# Prepare sequences of 2500 rows each\n",
        "sequence_length = 625\n",
        "num_features = 4\n",
        "\n",
        "X = []\n",
        "y = []\n",
        "\n",
        "df_attributes = stacked_df.drop(columns=['label'])\n",
        "\n",
        "for i in range(0, len(df_attributes) - sequence_length + 1, sequence_length):\n",
        "    sequence = df_attributes.iloc[i:i + sequence_length].values\n",
        "    X.append(sequence)\n",
        "\n",
        "X = np.array(X)\n",
        "# Determine labels based on the first row in each sequence\n",
        "# y = np.array([seq[0][0] for seq in X])\n",
        "y = [1] * 29 + [2] * 34 + [3] * 34 + [4] * 34\n",
        "y = np.array(y)\n",
        "one_hot_y = tf.one_hot(y, depth=4).numpy()\n",
        "\n",
        "# Convert the list to a NumPy array\n",
        "#y = np.array(y)\n",
        "# Split data into training and testing sets\n",
        "X_train, X_test, y_train, y_test = train_test_split(X, one_hot_y, test_size=0.25, random_state=42)\n",
        "\n",
        "model = Sequential([\n",
        "    LSTM(64, return_sequences=True, input_shape=(sequence_length, num_features)),\n",
        "    Dropout(0.1),\n",
        "    LSTM(16, return_sequences=True),\n",
        "    Dropout(0.1),\n",
        "    LSTM(8),\n",
        "    Dense(8, activation='relu'),\n",
        "    Dropout(0.1),\n",
        "    Dense(4, activation='softmax')\n",
        "])\n",
        "\n",
        "\n",
        "model.compile(optimizer='adam', loss='categorical_crossentropy', metrics=['accuracy'])\n",
        "\n",
        "# Train the model\n",
        "model.fit(X_train, y_train, epochs=50, batch_size=8, validation_data=(X_test, y_test))\n",
        "\n",
        "# Evaluate the model\n",
        "loss, accuracy = model.evaluate(X_test, y_test)\n",
        "print(f'Test Loss: {loss}, Test Accuracy: {accuracy}')"
      ],
      "metadata": {
        "colab": {
          "base_uri": "https://localhost:8080/"
        },
        "id": "RvRzACEleQsa",
        "outputId": "8ecad4fc-63ea-43f0-b48f-99a5d1dba28c"
      },
      "execution_count": 13,
      "outputs": [
        {
          "output_type": "stream",
          "name": "stdout",
          "text": [
            "Epoch 1/50\n",
            "13/13 [==============================] - 15s 682ms/step - loss: 0.9612 - accuracy: 0.2551 - val_loss: 1.0718 - val_accuracy: 0.2727\n",
            "Epoch 2/50\n",
            "13/13 [==============================] - 10s 783ms/step - loss: 0.9202 - accuracy: 0.2653 - val_loss: 1.0551 - val_accuracy: 0.2727\n",
            "Epoch 3/50\n",
            "13/13 [==============================] - 13s 1s/step - loss: 0.9054 - accuracy: 0.2653 - val_loss: 1.0340 - val_accuracy: 0.2424\n",
            "Epoch 4/50\n",
            "13/13 [==============================] - 12s 925ms/step - loss: 0.8733 - accuracy: 0.2857 - val_loss: 1.0262 - val_accuracy: 0.3030\n",
            "Epoch 5/50\n",
            "13/13 [==============================] - 8s 599ms/step - loss: 0.8526 - accuracy: 0.2959 - val_loss: 1.0200 - val_accuracy: 0.2424\n",
            "Epoch 6/50\n",
            "13/13 [==============================] - 9s 723ms/step - loss: 0.8561 - accuracy: 0.2653 - val_loss: 1.0240 - val_accuracy: 0.2424\n",
            "Epoch 7/50\n",
            "13/13 [==============================] - 9s 701ms/step - loss: 0.8446 - accuracy: 0.3061 - val_loss: 1.0119 - val_accuracy: 0.2424\n",
            "Epoch 8/50\n",
            "13/13 [==============================] - 8s 600ms/step - loss: 0.8394 - accuracy: 0.2959 - val_loss: 1.0006 - val_accuracy: 0.2424\n",
            "Epoch 9/50\n",
            "13/13 [==============================] - 9s 721ms/step - loss: 0.8180 - accuracy: 0.2857 - val_loss: 0.9800 - val_accuracy: 0.2424\n",
            "Epoch 10/50\n",
            "13/13 [==============================] - 7s 573ms/step - loss: 0.8238 - accuracy: 0.2755 - val_loss: 0.9672 - val_accuracy: 0.2424\n",
            "Epoch 11/50\n",
            "13/13 [==============================] - 9s 712ms/step - loss: 0.8140 - accuracy: 0.2653 - val_loss: 0.9567 - val_accuracy: 0.2424\n",
            "Epoch 12/50\n",
            "13/13 [==============================] - 9s 718ms/step - loss: 0.8036 - accuracy: 0.2959 - val_loss: 0.9482 - val_accuracy: 0.2424\n",
            "Epoch 13/50\n",
            "13/13 [==============================] - 8s 584ms/step - loss: 0.7874 - accuracy: 0.3061 - val_loss: 0.9311 - val_accuracy: 0.2727\n",
            "Epoch 14/50\n",
            "13/13 [==============================] - 9s 726ms/step - loss: 0.7996 - accuracy: 0.2959 - val_loss: 0.9295 - val_accuracy: 0.2424\n",
            "Epoch 15/50\n",
            "13/13 [==============================] - 8s 633ms/step - loss: 0.8158 - accuracy: 0.2551 - val_loss: 0.9233 - val_accuracy: 0.3030\n",
            "Epoch 16/50\n",
            "13/13 [==============================] - 9s 634ms/step - loss: 0.7936 - accuracy: 0.2857 - val_loss: 0.9386 - val_accuracy: 0.2424\n",
            "Epoch 17/50\n",
            "13/13 [==============================] - 9s 722ms/step - loss: 0.7832 - accuracy: 0.2857 - val_loss: 0.9416 - val_accuracy: 0.2424\n",
            "Epoch 18/50\n",
            "13/13 [==============================] - 7s 577ms/step - loss: 0.7931 - accuracy: 0.2755 - val_loss: 0.9403 - val_accuracy: 0.2424\n",
            "Epoch 19/50\n",
            "13/13 [==============================] - 10s 765ms/step - loss: 0.8192 - accuracy: 0.2449 - val_loss: 0.9206 - val_accuracy: 0.2727\n",
            "Epoch 20/50\n",
            "13/13 [==============================] - 9s 719ms/step - loss: 0.8589 - accuracy: 0.2245 - val_loss: 0.9120 - val_accuracy: 0.2727\n",
            "Epoch 21/50\n",
            "13/13 [==============================] - 7s 579ms/step - loss: 0.7874 - accuracy: 0.3061 - val_loss: 0.9062 - val_accuracy: 0.2727\n",
            "Epoch 22/50\n",
            "13/13 [==============================] - 9s 724ms/step - loss: 0.7698 - accuracy: 0.3367 - val_loss: 0.9054 - val_accuracy: 0.2727\n",
            "Epoch 23/50\n",
            "13/13 [==============================] - 9s 686ms/step - loss: 0.7725 - accuracy: 0.3163 - val_loss: 0.9076 - val_accuracy: 0.2727\n",
            "Epoch 24/50\n",
            "13/13 [==============================] - 8s 620ms/step - loss: 0.8243 - accuracy: 0.2653 - val_loss: 0.9094 - val_accuracy: 0.2727\n",
            "Epoch 25/50\n",
            "13/13 [==============================] - 9s 721ms/step - loss: 0.8085 - accuracy: 0.2755 - val_loss: 0.9137 - val_accuracy: 0.2727\n",
            "Epoch 26/50\n",
            "13/13 [==============================] - 10s 801ms/step - loss: 0.7838 - accuracy: 0.3163 - val_loss: 0.9198 - val_accuracy: 0.2727\n",
            "Epoch 27/50\n",
            "13/13 [==============================] - 8s 620ms/step - loss: 0.8302 - accuracy: 0.2653 - val_loss: 0.9187 - val_accuracy: 0.2727\n",
            "Epoch 28/50\n",
            "13/13 [==============================] - 9s 724ms/step - loss: 0.7704 - accuracy: 0.2755 - val_loss: 0.9198 - val_accuracy: 0.2727\n",
            "Epoch 29/50\n",
            "13/13 [==============================] - 7s 579ms/step - loss: 0.7850 - accuracy: 0.2959 - val_loss: 0.9253 - val_accuracy: 0.2727\n",
            "Epoch 30/50\n",
            "13/13 [==============================] - 9s 723ms/step - loss: 0.7615 - accuracy: 0.3061 - val_loss: 0.9330 - val_accuracy: 0.2727\n",
            "Epoch 31/50\n",
            "13/13 [==============================] - 9s 739ms/step - loss: 0.8322 - accuracy: 0.2551 - val_loss: 0.9319 - val_accuracy: 0.2727\n",
            "Epoch 32/50\n",
            "13/13 [==============================] - 7s 580ms/step - loss: 0.8083 - accuracy: 0.2347 - val_loss: 0.9359 - val_accuracy: 0.2727\n",
            "Epoch 33/50\n",
            "13/13 [==============================] - 9s 721ms/step - loss: 0.7750 - accuracy: 0.3163 - val_loss: 0.9415 - val_accuracy: 0.2727\n",
            "Epoch 34/50\n",
            "13/13 [==============================] - 8s 653ms/step - loss: 0.7986 - accuracy: 0.2449 - val_loss: 0.9470 - val_accuracy: 0.2727\n",
            "Epoch 35/50\n",
            "13/13 [==============================] - 8s 625ms/step - loss: 0.7871 - accuracy: 0.2653 - val_loss: 0.9476 - val_accuracy: 0.2727\n",
            "Epoch 36/50\n",
            "13/13 [==============================] - 9s 722ms/step - loss: 0.8028 - accuracy: 0.3163 - val_loss: 0.9511 - val_accuracy: 0.2727\n",
            "Epoch 37/50\n",
            "13/13 [==============================] - 8s 583ms/step - loss: 0.8227 - accuracy: 0.2653 - val_loss: 0.9529 - val_accuracy: 0.2727\n",
            "Epoch 38/50\n",
            "13/13 [==============================] - 9s 723ms/step - loss: 0.7855 - accuracy: 0.2755 - val_loss: 0.9559 - val_accuracy: 0.2727\n",
            "Epoch 39/50\n",
            "13/13 [==============================] - 9s 707ms/step - loss: 0.7624 - accuracy: 0.3163 - val_loss: 0.9306 - val_accuracy: 0.3030\n",
            "Epoch 40/50\n",
            "13/13 [==============================] - 8s 581ms/step - loss: 0.7670 - accuracy: 0.2857 - val_loss: 0.9560 - val_accuracy: 0.2727\n",
            "Epoch 41/50\n",
            "13/13 [==============================] - 9s 724ms/step - loss: 0.7947 - accuracy: 0.2857 - val_loss: 0.9471 - val_accuracy: 0.2727\n",
            "Epoch 42/50\n",
            "13/13 [==============================] - 7s 579ms/step - loss: 0.8410 - accuracy: 0.2551 - val_loss: 0.9422 - val_accuracy: 0.2727\n",
            "Epoch 43/50\n",
            "13/13 [==============================] - 9s 686ms/step - loss: 0.7921 - accuracy: 0.2755 - val_loss: 0.9463 - val_accuracy: 0.3030\n",
            "Epoch 44/50\n",
            "13/13 [==============================] - 9s 708ms/step - loss: 0.7380 - accuracy: 0.3469 - val_loss: 0.9569 - val_accuracy: 0.2727\n",
            "Epoch 45/50\n",
            "13/13 [==============================] - 7s 580ms/step - loss: 0.7581 - accuracy: 0.3061 - val_loss: 0.9585 - val_accuracy: 0.2727\n",
            "Epoch 46/50\n",
            "13/13 [==============================] - 9s 708ms/step - loss: 0.7542 - accuracy: 0.2857 - val_loss: 0.9643 - val_accuracy: 0.2727\n",
            "Epoch 47/50\n",
            "13/13 [==============================] - 8s 601ms/step - loss: 0.7867 - accuracy: 0.3265 - val_loss: 0.9680 - val_accuracy: 0.2727\n",
            "Epoch 48/50\n",
            "13/13 [==============================] - 9s 650ms/step - loss: 0.8380 - accuracy: 0.2551 - val_loss: 0.9648 - val_accuracy: 0.2727\n",
            "Epoch 49/50\n",
            "13/13 [==============================] - 11s 853ms/step - loss: 0.7815 - accuracy: 0.2755 - val_loss: 0.9654 - val_accuracy: 0.2727\n",
            "Epoch 50/50\n",
            "13/13 [==============================] - 8s 582ms/step - loss: 0.8019 - accuracy: 0.2755 - val_loss: 0.9710 - val_accuracy: 0.2727\n",
            "2/2 [==============================] - 0s 79ms/step - loss: 0.9710 - accuracy: 0.2727\n",
            "Test Loss: 0.9710182547569275, Test Accuracy: 0.27272728085517883\n"
          ]
        }
      ]
    },
    {
      "cell_type": "code",
      "source": [
        "model.save(\"SSVEP_time_series_model.h5\")\n"
      ],
      "metadata": {
        "id": "sc3Diz_reQq6",
        "colab": {
          "base_uri": "https://localhost:8080/"
        },
        "outputId": "53b01472-4e6c-4dd0-a956-b8fa04192499"
      },
      "execution_count": 14,
      "outputs": [
        {
          "output_type": "stream",
          "name": "stderr",
          "text": [
            "/usr/local/lib/python3.10/dist-packages/keras/src/engine/training.py:3103: UserWarning: You are saving your model as an HDF5 file via `model.save()`. This file format is considered legacy. We recommend using instead the native Keras format, e.g. `model.save('my_model.keras')`.\n",
            "  saving_api.save_model(\n"
          ]
        }
      ]
    },
    {
      "cell_type": "code",
      "source": [],
      "metadata": {
        "id": "DsYHA8zSeQo0"
      },
      "execution_count": null,
      "outputs": []
    },
    {
      "cell_type": "markdown",
      "source": [
        "JUST SOME PLOTS BEYOND THIS POINT"
      ],
      "metadata": {
        "id": "m42S5LNen6cc"
      }
    },
    {
      "cell_type": "code",
      "source": [
        "import matplotlib.pyplot as plt\n",
        "\n",
        "# Assuming column_contents contains the contents of the column you want to plot\n",
        "\n",
        "# Plot the column contents\n",
        "plt.plot(freq8.iloc[1500:,:8])\n",
        "\n",
        "# Add labels and title\n",
        "plt.xlabel('Index')  # or you can use plt.xlabel('Time') if it's a time-based column\n",
        "plt.ylabel('Value')\n",
        "plt.title('Plot of Column Contents')\n",
        "\n",
        "# Show the plot\n",
        "plt.show()\n"
      ],
      "metadata": {
        "colab": {
          "base_uri": "https://localhost:8080/",
          "height": 472
        },
        "id": "l7gL8TUlKw-6",
        "outputId": "90ee8a17-cfc3-4cdd-9b94-78673ebd253e"
      },
      "execution_count": null,
      "outputs": [
        {
          "output_type": "display_data",
          "data": {
            "text/plain": [
              "<Figure size 640x480 with 1 Axes>"
            ],
            "image/png": "[encoded data removed]"
          },
          "metadata": {}
        }
      ]
    }
  ]
}